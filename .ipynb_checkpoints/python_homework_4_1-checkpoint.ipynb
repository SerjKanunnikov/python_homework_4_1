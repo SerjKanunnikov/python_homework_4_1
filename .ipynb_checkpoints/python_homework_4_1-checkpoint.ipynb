{
 "cells": [
  {
   "cell_type": "code",
   "execution_count": 7,
   "metadata": {
    "collapsed": true
   },
   "outputs": [],
   "source": [
    "import pandas as pandas\n",
    "import numpy\n",
    "import matplotlib.pyplot as plt\n",
    "import os\n",
    "\n",
    "DATA_PATH = os.path.join(\"names\")"
   ]
  },
  {
   "cell_type": "code",
   "execution_count": 8,
   "metadata": {
    "collapsed": true,
    "scrolled": false
   },
   "outputs": [],
   "source": [
    "##Задача 1"
   ]
  },
  {
   "cell_type": "code",
   "execution_count": 58,
   "metadata": {},
   "outputs": [],
   "source": [
    "def count_top_3(years):\n",
    "    for year in years:\n",
    "        result = pandas.read_csv(DATA_PATH + \"/yob\" + year + \".txt\",\n",
    "                                names = [\"Name\", \"Gender\", \"Count\"]).sort_values(by=\"Count\", ascending=False)\n",
    "        v = result.head(3)\n",
    "        print(v)"
   ]
  },
  {
   "cell_type": "code",
   "execution_count": 59,
   "metadata": {},
   "outputs": [
    {
     "name": "stdout",
     "output_type": "stream",
     "text": [
      "        Name Gender  Count\n",
      "942     John      M   9655\n",
      "943  William      M   9532\n",
      "0       Mary      F   7065\n",
      "        Name Gender  Count\n",
      "4892  Robert      M  56519\n",
      "0       Mary      F  55067\n",
      "4893   James      M  54998\n",
      "        Name Gender  Count\n",
      "5243   James      M  74450\n",
      "5244  Robert      M  69931\n",
      "5245    John      M  66124\n"
     ]
    }
   ],
   "source": [
    "count_top_3([\"1880\", \"1935\", \"1945\"])"
   ]
  },
  {
   "cell_type": "code",
   "execution_count": 60,
   "metadata": {
    "collapsed": true
   },
   "outputs": [],
   "source": [
    "##Задача 2"
   ]
  },
  {
   "cell_type": "code",
   "execution_count": 67,
   "metadata": {},
   "outputs": [],
   "source": [
    "def count_dynamics(years):\n",
    "    for year in years:\n",
    "        result = pandas.read_csv(DATA_PATH + \"/yob\" + year + \".txt\",\n",
    "                                names = ['Name', 'Gender', 'Count'])\n",
    "        male_names = result[result.Gender=='M'].Count.sum()\n",
    "        female_names = result[result.Gender=='F'].Count.sum()\n",
    "        print(\"Количество мужских имен в {} году: {}\".format(year, male_names))\n",
    "        print(\"Количество женских имен в {} году: {}\".format(year, female_names))\n",
    "        print(\"------------------\")"
   ]
  },
  {
   "cell_type": "code",
   "execution_count": 68,
   "metadata": {},
   "outputs": [
    {
     "name": "stdout",
     "output_type": "stream",
     "text": [
      "Количество мужских имен в 1900 году: 150486\n",
      "Количество женских имен в 1900 году: 299810\n",
      "------------------\n",
      "Количество мужских имен в 1910 году: 194215\n",
      "Количество женских имен в 1910 году: 396502\n",
      "------------------\n",
      "Количество мужских имен в 1920 году: 1064417\n",
      "Количество женских имен в 1920 году: 1198288\n",
      "------------------\n",
      "Количество мужских имен в 1930 году: 1097258\n",
      "Количество женских имен в 1930 году: 1125853\n",
      "------------------\n",
      "Количество мужских имен в 1940 году: 1158975\n",
      "Количество женских имен в 1940 году: 1143386\n",
      "------------------\n",
      "Количество мужских имен в 1950 году: 1790871\n",
      "Количество женских имен в 1950 году: 1713259\n",
      "------------------\n"
     ]
    }
   ],
   "source": [
    "count_dynamics([\"1900\", \"1910\", \"1920\", \"1930\", \"1940\", \"1950\"])"
   ]
  },
  {
   "cell_type": "code",
   "execution_count": null,
   "metadata": {
    "collapsed": true
   },
   "outputs": [],
   "source": []
  }
 ],
 "metadata": {
  "kernelspec": {
   "display_name": "Python 3",
   "language": "python",
   "name": "python3"
  },
  "language_info": {
   "codemirror_mode": {
    "name": "ipython",
    "version": 3
   },
   "file_extension": ".py",
   "mimetype": "text/x-python",
   "name": "python",
   "nbconvert_exporter": "python",
   "pygments_lexer": "ipython3",
   "version": "3.6.1"
  }
 },
 "nbformat": 4,
 "nbformat_minor": 2
}
